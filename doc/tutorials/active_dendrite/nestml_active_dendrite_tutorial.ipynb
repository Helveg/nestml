{
 "cells": [
  {
   "cell_type": "markdown",
   "metadata": {},
   "source": [
    "# NESTML active dendrite tutorial\n",
    "\n",
    "In this tutorial, we will create a neuron model with an active dendritic compartment, that will fire a dendritic spike if the total synaptic current exceeds a threshold.\n"
   ]
  },
  {
   "cell_type": "code",
   "execution_count": 1,
   "metadata": {},
   "outputs": [
    {
     "ename": "ModuleNotFoundError",
     "evalue": "No module named 'nest'",
     "output_type": "error",
     "traceback": [
      "\u001b[0;31m---------------------------------------------------------------------------\u001b[0m",
      "\u001b[0;31mModuleNotFoundError\u001b[0m                       Traceback (most recent call last)",
      "\u001b[0;32m<ipython-input-1-ae7cbd07ce6d>\u001b[0m in \u001b[0;36m<module>\u001b[0;34m\u001b[0m\n\u001b[1;32m      1\u001b[0m \u001b[0mget_ipython\u001b[0m\u001b[0;34m(\u001b[0m\u001b[0;34m)\u001b[0m\u001b[0;34m.\u001b[0m\u001b[0mrun_line_magic\u001b[0m\u001b[0;34m(\u001b[0m\u001b[0;34m'matplotlib'\u001b[0m\u001b[0;34m,\u001b[0m \u001b[0;34m'inline'\u001b[0m\u001b[0;34m)\u001b[0m\u001b[0;34m\u001b[0m\u001b[0;34m\u001b[0m\u001b[0m\n\u001b[1;32m      2\u001b[0m \u001b[0;32mimport\u001b[0m \u001b[0mmatplotlib\u001b[0m\u001b[0;34m.\u001b[0m\u001b[0mpyplot\u001b[0m \u001b[0;32mas\u001b[0m \u001b[0mplt\u001b[0m\u001b[0;34m\u001b[0m\u001b[0;34m\u001b[0m\u001b[0m\n\u001b[0;32m----> 3\u001b[0;31m \u001b[0;32mimport\u001b[0m \u001b[0mnest\u001b[0m\u001b[0;34m\u001b[0m\u001b[0;34m\u001b[0m\u001b[0m\n\u001b[0m\u001b[1;32m      4\u001b[0m \u001b[0;32mimport\u001b[0m \u001b[0mnumpy\u001b[0m \u001b[0;32mas\u001b[0m \u001b[0mnp\u001b[0m\u001b[0;34m\u001b[0m\u001b[0;34m\u001b[0m\u001b[0m\n\u001b[1;32m      5\u001b[0m \u001b[0;32mimport\u001b[0m \u001b[0mos\u001b[0m\u001b[0;34m\u001b[0m\u001b[0;34m\u001b[0m\u001b[0m\n",
      "\u001b[0;31mModuleNotFoundError\u001b[0m: No module named 'nest'"
     ]
    }
   ],
   "source": [
    "%matplotlib inline\n",
    "import matplotlib.pyplot as plt\n",
    "import nest\n",
    "import numpy as np\n",
    "import os\n",
    "import uuid\n",
    "from pynestml.frontend.pynestml_frontend import to_nest, install_nest\n",
    "\n",
    "NEST_SIMULATOR_INSTALL_LOCATION = \"/home/beeblebrox/nest-simulator-build\""
   ]
  },
  {
   "cell_type": "code",
   "execution_count": null,
   "metadata": {},
   "outputs": [],
   "source": [
    "nestml_active_dend_model = '''\n",
    "neuron iaf_psc_exp_nonlineardendrite:\n",
    "  initial_values:\n",
    "    V_m mV = 0 mV         # membrane potential\n",
    "    t_dend_sp ms = 0 ms   # dendritic spike timer\n",
    "    dend_curr_enabled real = 1.   # set to 1 to allow synaptic dendritic currents to contribute to V_m integration, 0 otherwise\n",
    "    I_dend_spike pA = 0 pA\n",
    "  end\n",
    "\n",
    "  equations:\n",
    "    kernel I_kernel1 = exp(-t / tau_syn1)\n",
    "    kernel I_kernel2 = (e / tau_syn2) * t * exp(-t / tau_syn2)\n",
    "    kernel I_kernel3 = exp(-t / tau_syn3)\n",
    "\n",
    "    recordable inline I_dend pA = convolve(I_kernel2, I_2)\n",
    "\n",
    "    inline I_syn pA = convolve(I_kernel1, I_1) + dend_curr_enabled * I_dend + I_dend_spike + convolve(I_kernel3, I_3) + I_e\n",
    "\n",
    "    V_m' = -(V_m - E_L) / tau_m + I_syn / C_m\n",
    "  end\n",
    "\n",
    "  parameters:\n",
    "    C_m pF = 250 pF          # capacity of the membrane\n",
    "    tau_m ms = 20 ms         # membrane time constant\n",
    "    tau_syn1 ms = 10 ms      # time constant of synaptic current, port 1\n",
    "    tau_syn2 ms = 10 ms      # time constant of synaptic current, port 2\n",
    "    tau_syn3 ms = 10 ms      # time constant of synaptic current, port 3\n",
    "    V_th mV = 25 mV          # spike threshold\n",
    "    V_reset mV = 0 mV        # reset voltage\n",
    "    I_e    pA = 0 pA         # external current\n",
    "    E_L    mV = 0 mV         # resting potential\n",
    "\n",
    "    # dendritic action potential\n",
    "    i_th pA = 60 pA          # current-threshold for a dendritic spike\n",
    "    i_dend_sp pA = 150 pA    # current clamp value for I_dend during a dendritic spike\n",
    "    T_dend_sp ms = 10 ms     # time window over which the dendritic current clamp is active\n",
    "  end\n",
    "\n",
    "  input:\n",
    "    I_1 pA <- spike\n",
    "    I_2 pA <- spike\n",
    "    I_3 pA <- spike\n",
    "  end\n",
    "\n",
    "  output: spike\n",
    "\n",
    "  update:\n",
    "    # solve ODEs\n",
    "    integrate_odes()\n",
    "\n",
    "    if t_dend_sp > 0 ms:\n",
    "      t_dend_sp -= resolution()\n",
    "      if t_dend_sp <= 0 ms:\n",
    "        t_dend_sp = 0 ms\n",
    "        dend_curr_enabled = 1.\n",
    "        I_dend = 0 pA\n",
    "        I_dend' = 0 pA/ms\n",
    "        I_dend_spike = 0 pA\n",
    "      end\n",
    "    end\n",
    "\n",
    "    if I_dend > i_th:\n",
    "      # current-threshold, emit a dendritic spike\n",
    "      dend_curr_enabled = 0.\n",
    "      t_dend_sp = T_dend_sp\n",
    "      I_dend_spike = i_dend_sp\n",
    "    end\n",
    "\n",
    "    # emit somatic spike\n",
    "    if V_m > V_th:\n",
    "      emit_spike()\n",
    "      V_m = V_reset\n",
    "    end\n",
    "  end\n",
    "end\n",
    "'''"
   ]
  },
  {
   "cell_type": "markdown",
   "metadata": {},
   "source": [
    "Save to a temporary file and make the model available to instantiate in NEST:"
   ]
  },
  {
   "cell_type": "code",
   "execution_count": null,
   "metadata": {},
   "outputs": [],
   "source": [
    "with open(\"iaf_psc_exp_nonlineardendrite.nestml\", \"w\") as nestml_model_file:\n",
    "    print(nestml_active_dend_model, file=nestml_model_file)\n",
    "\n",
    "to_nest(input_path=\"iaf_psc_exp_nonlineardendrite.nestml\",\n",
    "        target_path=\"/tmp/nestml-active-dend-target\",\n",
    "        module_name=\"nestml_active_dend_module\",\n",
    "        suffix=\"_nestml\",\n",
    "        logging_level=\"INFO\")\n",
    "install_nest(\"/tmp/nestml-active-dend-target\", NEST_SIMULATOR_INSTALL_LOCATION)\n",
    "nest.Install(\"nestml_active_dend_module\")"
   ]
  },
  {
   "cell_type": "markdown",
   "metadata": {},
   "source": [
    "### Running the simulation in NEST\n",
    "\n",
    "Let's define a function that will instantiate the active dendrite model, run a simulation, and plot and return the results."
   ]
  },
  {
   "cell_type": "code",
   "execution_count": 2,
   "metadata": {},
   "outputs": [],
   "source": [
    "def evaluate_neuron(neuron_name, neuron_parms=None, I_e=0.,\n",
    "                    mu=0., sigma=0., t_sim=300., plot=True):\n",
    "    \"\"\"\n",
    "    Run a simulation in NEST for the specified neuron. Inject a stepwise\n",
    "    current and plot the membrane potential dynamics and spikes generated.\n",
    "    \"\"\"\n",
    "    dt = .1   # [ms]\n",
    "\n",
    "    MAX_SSE = 1E-12\n",
    "\n",
    "    I_dend_alias_name = 'I_dend'\n",
    "\n",
    "\n",
    "    neuron_name = iaf_psc_exp_nonlineardendrite_nestml\n",
    "\n",
    "\n",
    "    nest.ResetKernel()\n",
    "    try:\n",
    "        nest.Install(\"nestml_active_dend_module\")\n",
    "    except :\n",
    "        pass\n",
    "    neuron = nest.Create(neuron_name)\n",
    "    if neuron_parms:\n",
    "        for k, v in neuron_parms.items():\n",
    "            nest.SetStatus(neuron, k, v)\n",
    "\n",
    "    sg = nest.Create(\"spike_generator\", params={\"spike_times\": [10., 20., 30.]})\n",
    "    nest.Connect(sg, neuron, syn_spec={\"receptor_type\": 2, \"weight\": 30., \"delay\": 1.})\n",
    "    \n",
    "    multimeter = nest.Create(\"multimeter\")\n",
    "    multimeter.set({\"record_from\": [\"V_m\", I_dend_alias_name],\n",
    "                    \"interval\": dt})\n",
    "    sr = nest.Create(\"spike_recorder\")\n",
    "\n",
    "    nest.Connect(sg, neuron)\n",
    "    nest.Connect(multimeter, neuron)\n",
    "    nest.Connect(neuron, sr)\n",
    "    \n",
    "    nest.Simulate(t_sim)\n",
    "\n",
    "    dmm = nest.GetStatus(multimeter)[0]\n",
    "    Voltages = dmm[\"events\"][\"V_m\"]\n",
    "    tv = dmm[\"events\"][\"times\"]\n",
    "    dSD = nest.GetStatus(sr, keys='events')[0]\n",
    "    spikes = dSD['senders']\n",
    "    ts = dSD[\"times\"]\n",
    "    \n",
    "    _idx = [np.argmin((tv - spike_time)**2) - 1 for spike_time in ts]\n",
    "    V_m_at_spike_times = Voltages[_idx]\n",
    "    timevec = mm.get(\"events\")[\"times\"]\n",
    "    I_dend_alias_ts = mm.get(\"events\")[I_dend_alias_name]\n",
    "\n",
    "    if plot:\n",
    "        fig, ax = plt.subplots(3, 1)\n",
    "        ax[0].plot(timevec, I_dend_alias_ts, label=\"I_dend\")\n",
    "        ax[2].plot(timevec, mm.get(\"events\")[\"V_m\"], label=\"V_m\")\n",
    "        for _ax in ax:\n",
    "            _ax.legend()\n",
    "            _ax.grid()\n",
    "\n",
    "    return ts"
   ]
  },
  {
   "cell_type": "code",
   "execution_count": 3,
   "metadata": {},
   "outputs": [
    {
     "ename": "NameError",
     "evalue": "name 'iaf_psc_exp_nonlineardendrite_nestml' is not defined",
     "output_type": "error",
     "traceback": [
      "\u001b[0;31m---------------------------------------------------------------------------\u001b[0m",
      "\u001b[0;31mNameError\u001b[0m                                 Traceback (most recent call last)",
      "\u001b[0;32m<ipython-input-3-6789046d21fa>\u001b[0m in \u001b[0;36m<module>\u001b[0;34m\u001b[0m\n\u001b[0;32m----> 1\u001b[0;31m \u001b[0mevaluate_neuron\u001b[0m\u001b[0;34m(\u001b[0m\u001b[0;34m\"iaf_psc_exp_nonlineardendrite_nestml\"\u001b[0m\u001b[0;34m)\u001b[0m\u001b[0;34m\u001b[0m\u001b[0;34m\u001b[0m\u001b[0m\n\u001b[0m",
      "\u001b[0;32m<ipython-input-2-c1b77e4b6dd8>\u001b[0m in \u001b[0;36mevaluate_neuron\u001b[0;34m(neuron_name, neuron_parms, I_e, mu, sigma, t_sim, plot)\u001b[0m\n\u001b[1;32m     12\u001b[0m \u001b[0;34m\u001b[0m\u001b[0m\n\u001b[1;32m     13\u001b[0m \u001b[0;34m\u001b[0m\u001b[0m\n\u001b[0;32m---> 14\u001b[0;31m     \u001b[0mneuron_name\u001b[0m \u001b[0;34m=\u001b[0m \u001b[0miaf_psc_exp_nonlineardendrite_nestml\u001b[0m\u001b[0;34m\u001b[0m\u001b[0;34m\u001b[0m\u001b[0m\n\u001b[0m\u001b[1;32m     15\u001b[0m \u001b[0;34m\u001b[0m\u001b[0m\n\u001b[1;32m     16\u001b[0m \u001b[0;34m\u001b[0m\u001b[0m\n",
      "\u001b[0;31mNameError\u001b[0m: name 'iaf_psc_exp_nonlineardendrite_nestml' is not defined"
     ]
    }
   ],
   "source": [
    "evaluate_neuron(\"iaf_psc_exp_nonlineardendrite_nestml\")"
   ]
  },
  {
   "cell_type": "code",
   "execution_count": null,
   "metadata": {},
   "outputs": [],
   "source": []
  }
 ],
 "metadata": {
  "kernelspec": {
   "display_name": "Python 3",
   "language": "python",
   "name": "python3"
  },
  "language_info": {
   "codemirror_mode": {
    "name": "ipython",
    "version": 3
   },
   "file_extension": ".py",
   "mimetype": "text/x-python",
   "name": "python",
   "nbconvert_exporter": "python",
   "pygments_lexer": "ipython3",
   "version": "3.7.3"
  }
 },
 "nbformat": 4,
 "nbformat_minor": 4
}
