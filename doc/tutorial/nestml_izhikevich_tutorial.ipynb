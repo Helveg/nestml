{
 "cells": [
  {
   "cell_type": "code",
   "execution_count": 1,
   "metadata": {},
   "outputs": [],
   "source": [
    "%matplotlib inline\n",
    "import matplotlib.pyplot as plt\n",
    "import nest\n",
    "import numpy as np\n",
    "import os\n",
    "import uuid\n",
    "from pynestml.frontend.pynestml_frontend import to_nest, install_nest\n",
    "\n",
    "NEST_SIMULATOR_INSTALL_LOCATION = \"/home/beeblebrox/nest-simulator-build\"   # XXX: CHANGE ME!\n"
   ]
  },
  {
   "cell_type": "markdown",
   "metadata": {},
   "source": [
    "# NESTML Izhikevich tutorial\n",
    "\n",
    "Introduction\n",
    "------------\n",
    "\n",
    "The aim of this exercise is to obtain familiarity with NESTML by completing a partial model of the Izhikevich neuron [1]_.\n",
    "\n",
    "\n",
    "Prerequisites\n",
    "-------------\n",
    "\n",
    "You need to have a working NEST Simulator and NESTML installation, see [Installing NESTML](https://nestml.readthedocs.io/en/latest/installation.html).\n",
    "\n",
    "You need to be able to run NESTML to generate and build model code. The recommended way is via the Python API. See [Running NESTML](https://nestml.readthedocs.io/en/latest/running.html).\n",
    "\n",
    "### Paths\n",
    "\n",
    "We assume here that NEST Simulator is installed to `/home/beeblebrox/nest-simulator-build` and that we will generate code in `/tmp/nestml-component`.\n",
    "\n",
    "When starting the Python interpreter, these paths can be passed as environment variables, for example as follows (note the Python 3.6 version number, adapt as needed):\n",
    "\n",
    "```bash\n",
    "PYTHONPATH=$PYTHONPATH:/home/beeblebrox/nest-simulator-build/lib/python3.6/site-packages LD_LIBRARY_PATH=/tmp/nestml-component ipython3\n",
    "```\n",
    "\n",
    "Note that on MacOS, `LD_LIBRARY_PATH` is called `DYLD_LIBRARY_PATH`.\n",
    "\n",
    "\n",
    "The Izhikevich model\n",
    "--------------------\n",
    "\n",
    "A simple model for spiking neurons that nevertheless can exhibit a wide variety of dynamical behaviour, depending on its parameter values [1]_. It is defined as follows:\n",
    "\n",
    "\\begin{align}\n",
    "\\frac{dv}{dt} &= 0.04 v^2 + 5 v + 140 - u + I\\\\\n",
    "\\frac{du}{dt} &= a (b v - u)\n",
    "\\end{align}\n",
    "\n",
    "State update:\n",
    "\n",
    "\\begin{align}\n",
    "   &\\text{if}\\;\\; v \\geq V_{th}:\\\\\n",
    "   &\\;\\;\\;\\; v \\text{ is set to } c\\\\\n",
    "   &\\;\\;\\;\\; u \\text{ is incremented by } d\\\\\n",
    "   & \\, \\\\\n",
    "   &v \\text{ jumps on each spike arrival by the weight of the spike}\n",
    "\\end{align}\n",
    "\n",
    "Example parameters for regular spiking: \n",
    "\n",
    "\\begin{align}\n",
    "a&=0.02\\\\\n",
    "b&=0.2\\\\\n",
    "c&=-65\\\\\n",
    "d&=8\n",
    "\\end{align}\n",
    "\n",
    "\n",
    "Task 1: Finish the model\n",
    "------------------------\n",
    "\n",
    "In the file :ref:`izhikevich_task.nestml <izhikevich_task.nestml>`, only a subset of the parameters, state equations and update block is implemented.\n",
    "\n",
    "Open the .nestml file in a text editor and finish the partially-completed model.\n",
    "\n",
    "For reference, the solution is included as `izhikevich_solution.nestml`."
   ]
  },
  {
   "cell_type": "markdown",
   "metadata": {},
   "source": [
    "### NESTML code generation\n",
    "\n",
    "Assume that our NESTML input model is at `/home/beeblebrox/nestml-tutorial/izhikevich_solution.nestml`. To generate code and build a dynamic library that can be loaded as a user module in NEST Simulator:"
   ]
  },
  {
   "cell_type": "code",
   "execution_count": null,
   "metadata": {},
   "outputs": [],
   "source": [
    "from pynestml.frontend.pynestml_frontend import to_nest, install_nest\n",
    "to_nest(input_path=\"/home/beeblebrox/nestml-tutorial/izhikevich_solution.nestml\", target_path=\"/tmp/nestml-component\", logging_level=\"INFO\")\n",
    "install_nest(\"/tmp/nestml-component\", \"/home/beeblebrox/nest-simulator-build\")"
   ]
  },
  {
   "cell_type": "markdown",
   "metadata": {},
   "source": [
    "Check the generated log output for any potential error messages or warnings."
   ]
  },
  {
   "cell_type": "markdown",
   "metadata": {},
   "source": [
    "Task 2: Parameter space exploration\n",
    "-----------------------------------\n",
    "\n",
    "Using the PyNEST API, the model can be instantiated and simulated in NEST.\n",
    "\n",
    "Perform a parameter space exploration to reproduce the bottom eight panels from [1]_, figure 2.\n",
    "\n",
    "\n",
    "### Instantiate model in NEST Simulator and run\n",
    "\n",
    "The following code will load the generated NESTML module containing the model (`nest.Install(\"nestmlmodule\")`), perform the instantiation of the model (`nest.Create(\"izhikevich_tutorial\")`), inject a constant current and run the simulation for 250 ms."
   ]
  },
  {
   "cell_type": "code",
   "execution_count": null,
   "metadata": {},
   "outputs": [],
   "source": [
    "nest.set_verbosity(\"M_WARNING\")\n",
    "nest.ResetKernel()\n",
    "nest.Install(\"nestmlmodule\")\n",
    "\n",
    "neuron = nest.Create(\"izhikevich_tutorial\")\n",
    "voltmeter = nest.Create(\"voltmeter\")\n",
    "\n",
    "voltmeter.set({\"record_from\": [\"v\"]})\n",
    "nest.Connect(voltmeter, neuron)\n",
    "\n",
    "cgs = nest.Create('dc_generator')\n",
    "cgs.set({\"amplitude\": 25.})\n",
    "nest.Connect(cgs, neuron)\n",
    "\n",
    "nest.Simulate(250.)\n",
    "\n",
    "plt.plot(voltmeter.get(\"events\")[\"times\"], voltmeter.get(\"events\")[\"v\"])\n",
    "plt.show()"
   ]
  },
  {
   "cell_type": "markdown",
   "metadata": {},
   "source": [
    "## References\n",
    "\n",
    "Eugene M. Izhikevich, \"Simple Model of Spiking Neurons\", IEEE Transactions on Neural Networks, Vol. 14, No. 6, November 2003\n",
    "\n",
    "## Copyright\n",
    "\n",
    "This file is part of NEST.\n",
    "\n",
    "Copyright (C) 2004 The NEST Initiative\n",
    "\n",
    "NEST is free software: you can redistribute it and/or modify it under the terms of the GNU General Public License as published by the Free Software Foundation, either version 2 of the License, or (at your option) any later version.\n",
    "\n",
    "NEST is distributed in the hope that it will be useful, but WITHOUT ANY WARRANTY; without even the implied warranty of MERCHANTABILITY or FITNESS FOR A PARTICULAR PURPOSE.  See the GNU General Public License for more details.\n",
    "\n",
    "You should have received a copy of the GNU General Public License along with NEST.  If not, see <http://www.gnu.org/licenses/>.\n"
   ]
  }
 ],
 "metadata": {
  "kernelspec": {
   "display_name": "Python 3",
   "language": "python",
   "name": "python3"
  },
  "language_info": {
   "codemirror_mode": {
    "name": "ipython",
    "version": 3
   },
   "file_extension": ".py",
   "mimetype": "text/x-python",
   "name": "python",
   "nbconvert_exporter": "python",
   "pygments_lexer": "ipython3",
   "version": "3.7.3"
  }
 },
 "nbformat": 4,
 "nbformat_minor": 4
}
